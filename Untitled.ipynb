{
 "cells": [
  {
   "cell_type": "code",
   "execution_count": 12,
   "id": "8aedc91b-53a6-4163-9364-9fd6199b2a98",
   "metadata": {},
   "outputs": [],
   "source": [
    "dict1 = {'CT': ['Pittsburgh', 221053.65310263395], 'DC': ['Memphis', 187471.32790192871], 'DE': ['Memphis', 191962.2574410674], 'MA': ['Memphis', 261084.0533621356], 'MD': ['Memphis', 238991.96009428846], 'ME': ['Pittsburgh', 199955.47982407303], 'NH': ['Pittsburgh', 198438.42305415118], 'NJ': ['Pittsburgh', 283830.1456623537], 'NY': ['Pittsburgh', 397150.63219908846], 'PA': ['Memphis', 302345.61354711466], 'RI': ['Memphis', 193626.30940787937], 'VT': ['Pittsburgh', 189117.78053554177], 'CA': ['Salt Lake City', 530409.3566548621], 'CO': ['Kansas City', 224904.3941570744], 'NV': ['Salt Lake City', 205499.59586884233], 'UT': ['Salt Lake City', 207250.3559028919], 'AK': ['Seattle', 190058.91833446274], 'ID': ['Salt Lake City', 198731.5411492351], 'OR': ['Salt Lake City', 224727.52006501873], 'WA': ['Seattle', 255721.1314684142], 'AL': ['Memphis', 215338.9453150276], 'FL': ['Memphis', 392666.7273419696], 'GA': ['Memphis', 255090.9670636864], 'NC': ['Memphis', 253975.53167067235], 'SC': ['Memphis', 217115.22966514336], 'TN': ['Memphis', 238680.76559363393], 'MN': ['Bismarck', 243438.48421643738], 'MT': ['Bismarck', 190602.6354983255], 'ND': ['Bismarck', 186639.22264371082], 'SD': ['Bismarck', 187583.05702531137], 'WY': ['Salt Lake City', 185574.20330529727], 'HI': ['Memphis', 206789.23726403358], 'IA': ['Kansas City', 209223.94494148088], 'IL': ['Memphis', 282105.79028258263], 'IN': ['Bismarck', 229315.82224759427], 'KS': ['Memphis', 200859.43834268954], 'KY': ['Memphis', 211409.00882695563], 'MI': ['Memphis', 286675.15606689744], 'MO': ['Memphis', 222815.9754613946], 'NE': ['Kansas City', 195801.791584816], 'OH': ['Memphis', 276068.3312648761], 'VA': ['Memphis', 239507.196450538], 'WI': ['Bismarck', 230617.45730522135], 'WV': ['Memphis', 193009.21174908965], 'AR': ['Memphis', 201653.8350549213], 'AZ': ['Salt Lake City', 247736.03221660806], 'LA': ['Houston', 218635.8854770722], 'MS': ['Memphis', 200914.35490892507], 'NM': ['Kansas City', 199628.8884068504], 'OK': ['Kansas City', 211244.54297616438], 'TX': ['Houston', 431875.7297706766]} "
   ]
  },
  {
   "cell_type": "code",
   "execution_count": 24,
   "id": "be0ff6d1-52bb-4a50-bb9a-9dbfa4ccf3a9",
   "metadata": {},
   "outputs": [
    {
     "data": {
      "text/plain": [
       "dict_values([['Pittsburgh', 221053.65310263395], ['Memphis', 187471.32790192871], ['Memphis', 191962.2574410674], ['Memphis', 261084.0533621356], ['Memphis', 238991.96009428846], ['Pittsburgh', 199955.47982407303], ['Pittsburgh', 198438.42305415118], ['Pittsburgh', 283830.1456623537], ['Pittsburgh', 397150.63219908846], ['Memphis', 302345.61354711466], ['Memphis', 193626.30940787937], ['Pittsburgh', 189117.78053554177], ['Salt Lake City', 530409.3566548621], ['Kansas City', 224904.3941570744], ['Salt Lake City', 205499.59586884233], ['Salt Lake City', 207250.3559028919], ['Seattle', 190058.91833446274], ['Salt Lake City', 198731.5411492351], ['Salt Lake City', 224727.52006501873], ['Seattle', 255721.1314684142], ['Memphis', 215338.9453150276], ['Memphis', 392666.7273419696], ['Memphis', 255090.9670636864], ['Memphis', 253975.53167067235], ['Memphis', 217115.22966514336], ['Memphis', 238680.76559363393], ['Bismarck', 243438.48421643738], ['Bismarck', 190602.6354983255], ['Bismarck', 186639.22264371082], ['Bismarck', 187583.05702531137], ['Salt Lake City', 185574.20330529727], ['Memphis', 206789.23726403358], ['Kansas City', 209223.94494148088], ['Memphis', 282105.79028258263], ['Bismarck', 229315.82224759427], ['Memphis', 200859.43834268954], ['Memphis', 211409.00882695563], ['Memphis', 286675.15606689744], ['Memphis', 222815.9754613946], ['Kansas City', 195801.791584816], ['Memphis', 276068.3312648761], ['Memphis', 239507.196450538], ['Bismarck', 230617.45730522135], ['Memphis', 193009.21174908965], ['Memphis', 201653.8350549213], ['Salt Lake City', 247736.03221660806], ['Houston', 218635.8854770722], ['Memphis', 200914.35490892507], ['Kansas City', 199628.8884068504], ['Kansas City', 211244.54297616438], ['Houston', 431875.7297706766]])"
      ]
     },
     "execution_count": 24,
     "metadata": {},
     "output_type": "execute_result"
    }
   ],
   "source": [
    "dict1.values()\n"
   ]
  },
  {
   "cell_type": "code",
   "execution_count": null,
   "id": "5abb781e-5676-4fb7-a3cd-44fb6722476f",
   "metadata": {},
   "outputs": [],
   "source": []
  }
 ],
 "metadata": {
  "kernelspec": {
   "display_name": "Python 3 (ipykernel)",
   "language": "python",
   "name": "python3"
  },
  "language_info": {
   "codemirror_mode": {
    "name": "ipython",
    "version": 3
   },
   "file_extension": ".py",
   "mimetype": "text/x-python",
   "name": "python",
   "nbconvert_exporter": "python",
   "pygments_lexer": "ipython3",
   "version": "3.9.12"
  }
 },
 "nbformat": 4,
 "nbformat_minor": 5
}
